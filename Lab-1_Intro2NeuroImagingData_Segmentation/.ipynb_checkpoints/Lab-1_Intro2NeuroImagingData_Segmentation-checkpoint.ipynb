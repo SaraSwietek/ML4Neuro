{
 "cells": [
  {
   "cell_type": "markdown",
   "metadata": {
    "id": "54-PAZ2oWjoh"
   },
   "source": [
    "# Anatomical Magnetic Resonance Imaging (MRI) data\n",
    "\n",
    "This session will guide you through the steps that one needs to follow in order to understand and work with neuroimaging data. We will cover how this data is obtained and what can be seen from it. NeuroImaging data is sensitive, heavy, complex and, most importantly, collaborative. Thus, it needs to be stored in efficient and standardized forms: the NIFTI and BIDS formats. Unfortunately MR scaners do not produce these types of formats and data usually needs to be semiautomatically transformed in order to meet the aforementioned criteria.\n",
    "\n",
    "You will also learn what softwares and/or custom codes one can use in order to inspect the images once they are in the correct format. In order to know what can be done with this type of data is perhaps more important to be aware at what you are not looking at. Understanding what is the data showing you is a crucial step prior to digging into the specifics of the data structure and what can be done with it.\n",
    "\n",
    "Eventually, you will be in a position where you can do what you came here to do... use some machine learning or artificial intelligence methods to unravel what the naked eye might have missed. One of the gold-standard of medical imaging is the segmentation of different structures or lesions that can be seen in the brain. Only after doing a manual segmentation can one see the huge advantage of letting stochastic gradient descent do the heavy work.\n",
    "\n",
    "The notebook is organized as follows\n",
    "1.   Magnetic Resonance Imaging: Quick overview of the physics behind the image\n",
    "2.   From the MR scanner to your laptop: DICOM, NIFTI and BIDS\n",
    "3.   Data and visualization: What do I have? How do I see what I have?\n",
    "4.   Tissue segmentation: Unsupervised vs supervised methods\n",
    "5.   Anatomical MRI acquisitions: What am I looking at?\n",
    "6.   Homework"
   ]
  },
  {
   "cell_type": "markdown",
   "metadata": {},
   "source": [
    "Just to be on the safe do what you probably already know:\n",
    "```\n",
    "conda create -y -n ML4Neuro python=3.11 numpy matplotlib\n",
    "conda init bash\n",
    "conda activate ML4Neuro\n",
    "conda install -c conda-forge jupyterlab\n",
    "jupyter-lab\n",
    "```\n",
    "\n",
    "Clone the [repository](https://github.com/alecrimiSano/ML4Neuro/tree/main) to where you wish in your machine and ```cd``` to it."
   ]
  },
  {
   "cell_type": "markdown",
   "metadata": {
    "id": "mrPWXNaMfEag"
   },
   "source": [
    "## 1. Magnetic Resonance Imaging: Quick overview of the physics behind the image"
   ]
  },
  {
   "cell_type": "code",
   "execution_count": null,
   "metadata": {
    "id": "hQa4sPPYfo07"
   },
   "outputs": [],
   "source": []
  },
  {
   "cell_type": "markdown",
   "metadata": {
    "id": "E1ouq5UTfSee"
   },
   "source": [
    "## 2. From the MR scanner to your laptop: DICOM, NIFTI and BIDS."
   ]
  },
  {
   "cell_type": "markdown",
   "metadata": {
    "id": "Ud2LUwqIkNE8"
   },
   "source": [
    "The *Digital Imaging and Communications in Medicine* (DICOM) is the standard format for storing and transmitting medical imaging data and information. In this section we will take a look at what this format offers as well as its shortcomings. Ultimately, we need to convert from DICOM to NIFTI and reorganize our data in a way that it's compliant with the BIDS format. This organizational format ensures a correct usage of neuroimaging software increasing the reproducibility and replicability of neuroimaging findings.\n"
   ]
  },
  {
   "cell_type": "code",
   "execution_count": 17,
   "metadata": {
    "colab": {
     "base_uri": "https://localhost:8080/"
    },
    "executionInfo": {
     "elapsed": 4692,
     "status": "ok",
     "timestamp": 1695881529685,
     "user": {
      "displayName": "Joan Falcó Roget",
      "userId": "02492810960776302930"
     },
     "user_tz": -120
    },
    "id": "i0nA0JLrfpyR",
    "outputId": "84303638-77af-42a1-aba7-4418de84f51f"
   },
   "outputs": [
    {
     "name": "stdout",
     "output_type": "stream",
     "text": [
      "Requirement already satisfied: pydicom in /home/joanfr/miniconda3/envs/ML4Neuro/lib/python3.11/site-packages (2.4.3)\n"
     ]
    }
   ],
   "source": [
    "!pip install pydicom\n",
    "import pydicom as dicom\n",
    "import glob\n",
    "import matplotlib.pylab as plt"
   ]
  },
  {
   "cell_type": "code",
   "execution_count": 12,
   "metadata": {
    "executionInfo": {
     "elapsed": 986,
     "status": "ok",
     "timestamp": 1695882573299,
     "user": {
      "displayName": "Joan Falcó Roget",
      "userId": "02492810960776302930"
     },
     "user_tz": -120
    },
    "id": "Tug6OwlcajF4"
   },
   "outputs": [],
   "source": [
    "# Prepare the directory variables\n",
    "DICOM_subject = 'FCS-02AMC'\n",
    "DICOM_acq = '4'\n",
    "DICOM_dir = f'./DICOM-dir/{DICOM_subject}/{DICOM_acq}/' \n",
    "slices = sorted(glob.glob(DICOM_dir+'DICOM/*.dcm'))"
   ]
  },
  {
   "cell_type": "code",
   "execution_count": 21,
   "metadata": {
    "colab": {
     "base_uri": "https://localhost:8080/"
    },
    "executionInfo": {
     "elapsed": 1236,
     "status": "ok",
     "timestamp": 1695882576861,
     "user": {
      "displayName": "Joan Falcó Roget",
      "userId": "02492810960776302930"
     },
     "user_tz": -120
    },
    "id": "FD0p8q4_olJh",
    "outputId": "bad525ee-a266-4883-a58e-50f41dacede7"
   },
   "outputs": [
    {
     "data": {
      "text/plain": [
       "Dataset.file_meta -------------------------------\n",
       "(0002, 0000) File Meta Information Group Length  UL: 198\n",
       "(0002, 0001) File Meta Information Version       OB: b'\\x00\\x01'\n",
       "(0002, 0002) Media Storage SOP Class UID         UI: MR Image Storage\n",
       "(0002, 0003) Media Storage SOP Instance UID      UI: 1.3.12.2.1107.5.2.32.35177.3.201011161149402273705572\n",
       "(0002, 0010) Transfer Syntax UID                 UI: Explicit VR Little Endian\n",
       "(0002, 0012) Implementation Class UID            UI: 1.2.40.0.13.1.1\n",
       "(0002, 0013) Implementation Version Name         SH: 'dcm4che-2.0'\n",
       "(0002, 0016) Source Application Entity Title     AE: 'DCMSEND'\n",
       "-------------------------------------------------\n",
       "(0008, 0005) Specific Character Set              CS: 'ISO_IR 100'\n",
       "(0008, 0008) Image Type                          CS: ['ORIGINAL', 'PRIMARY', 'M', 'ND', 'NORM']\n",
       "(0008, 0012) Instance Creation Date              DA: '20101116'\n",
       "(0008, 0013) Instance Creation Time              TM: '114942.328000'\n",
       "(0008, 0016) SOP Class UID                       UI: MR Image Storage\n",
       "(0008, 0018) SOP Instance UID                    UI: 1.3.12.2.1107.5.2.32.35177.3.201011161149402273705572\n",
       "(0008, 0020) Study Date                          DA: '20101116'\n",
       "(0008, 0021) Series Date                         DA: '20101116'\n",
       "(0008, 0022) Acquisition Date                    DA: '20101116'\n",
       "(0008, 0023) Content Date                        DA: '20101116'\n",
       "(0008, 0030) Study Time                          TM: '114152.078000'\n",
       "(0008, 0031) Series Time                         TM: '114942.312000'\n",
       "(0008, 0032) Acquisition Time                    TM: '114508.802500'\n",
       "(0008, 0033) Content Time                        TM: '114942.328000'\n",
       "(0008, 0060) Modality                            CS: 'MR'\n",
       "(0008, 0070) Manufacturer                        LO: 'SIEMENS'\n",
       "(0008, 0080) Institution Name                    LO: 'CCIR_00299'\n",
       "(0008, 0081) Institution Address                 ST: 'Scott Ave.4525, St. Louis, MO, US, 63110'\n",
       "(0008, 0090) Referring Physician's Name          PN: ''\n",
       "(0008, 1010) Station Name                        SH: 'MEDPC'\n",
       "(0008, 1030) Study Description                   LO: 'CCIR_00299'\n",
       "(0008, 103e) Series Description                  LO: 'MPR_1mm_iso'\n",
       "(0008, 1050) Performing Physician's Name         PN: ''\n",
       "(0008, 1070) Operators' Name                     PN: 'Nick Metcalf'\n",
       "(0008, 1090) Manufacturer's Model Name           LO: 'TrioTim'\n",
       "(0008, 1140)  Referenced Image Sequence  3 item(s) ---- \n",
       "   (0008, 1150) Referenced SOP Class UID            UI: MR Image Storage\n",
       "   (0008, 1155) Referenced SOP Instance UID         UI: 1.3.12.2.1107.5.2.32.35177.3.2010111611422017472404156\n",
       "   ---------\n",
       "   (0008, 1150) Referenced SOP Class UID            UI: MR Image Storage\n",
       "   (0008, 1155) Referenced SOP Instance UID         UI: 1.3.12.2.1107.5.2.32.35177.3.201011161142235534804160\n",
       "   ---------\n",
       "   (0008, 1150) Referenced SOP Class UID            UI: MR Image Storage\n",
       "   (0008, 1155) Referenced SOP Instance UID         UI: 1.3.12.2.1107.5.2.32.35177.3.2010111611421729599804152\n",
       "   ---------\n",
       "(0010, 0010) Patient's Name                      PN: 'FCS_002_AMC'\n",
       "(0010, 0020) Patient ID                          LO: 'FCS-02AMC'\n",
       "(0010, 0040) Patient's Sex                       CS: 'M'\n",
       "(0010, 1030) Patient's Weight                    DS: '67.5852717273'\n",
       "(0010, 4000) Patient Comments                    LT: Array of 18 elements\n",
       "(0012, 0063) De-identification Method            LO: 'CNDA common deidentification'\n",
       "(0012, 0064)  De-identification Method Code Sequence  1 item(s) ---- \n",
       "   (0008, 0100) Code Value                          SH: '2295161'\n",
       "   (0008, 0102) Coding Scheme Designator            SH: 'XNAT'\n",
       "   (0008, 0103) Coding Scheme Version               SH: '0.1'\n",
       "   (0008, 0104) Code Meaning                        LO: 'XNAT Edit Script'\n",
       "   ---------\n",
       "(0018, 0015) Body Part Examined                  CS: 'HEAD'\n",
       "(0018, 0020) Scanning Sequence                   CS: ['GR', 'IR']\n",
       "(0018, 0021) Sequence Variant                    CS: ['SP', 'MP']\n",
       "(0018, 0022) Scan Options                        CS: 'IR'\n",
       "(0018, 0023) MR Acquisition Type                 CS: '3D'\n",
       "(0018, 0024) Sequence Name                       SH: '*tfl3d1_ns'\n",
       "(0018, 0025) Angio Flag                          CS: 'N'\n",
       "(0018, 0050) Slice Thickness                     DS: '1.0'\n",
       "(0018, 0080) Repetition Time                     DS: '1950.0'\n",
       "(0018, 0081) Echo Time                           DS: '2.26'\n",
       "(0018, 0082) Inversion Time                      DS: '900.0'\n",
       "(0018, 0083) Number of Averages                  DS: '1.0'\n",
       "(0018, 0084) Imaging Frequency                   DS: '123.255811'\n",
       "(0018, 0085) Imaged Nucleus                      SH: '1H'\n",
       "(0018, 0086) Echo Number(s)                      IS: '1'\n",
       "(0018, 0087) Magnetic Field Strength             DS: '3.0'\n",
       "(0018, 0089) Number of Phase Encoding Steps      IS: '255'\n",
       "(0018, 0091) Echo Train Length                   IS: '1'\n",
       "(0018, 0093) Percent Sampling                    DS: '100.0'\n",
       "(0018, 0094) Percent Phase Field of View         DS: '100.0'\n",
       "(0018, 0095) Pixel Bandwidth                     DS: '200.0'\n",
       "(0018, 1000) Device Serial Number                LO: '35177'\n",
       "(0018, 1020) Software Versions                   LO: 'syngo MR B13 4VB13A'\n",
       "(0018, 1030) Protocol Name                       LO: 'MPR_1mm_iso'\n",
       "(0018, 1251) Transmit Coil Name                  SH: 'Body'\n",
       "(0018, 1310) Acquisition Matrix                  US: [0, 256, 256, 0]\n",
       "(0018, 1312) In-plane Phase Encoding Direction   CS: 'ROW'\n",
       "(0018, 1314) Flip Angle                          DS: '9.0'\n",
       "(0018, 1315) Variable Flip Angle Flag            CS: 'N'\n",
       "(0018, 1316) SAR                                 DS: '0.12808420634112'\n",
       "(0018, 1318) dB/dt                               DS: '0.0'\n",
       "(0018, 5100) Patient Position                    CS: 'HFS'\n",
       "(0019, 0010) Private Creator                     LO: 'SIEMENS MR HEADER'\n",
       "(0019, 1008) [CSA Image Header Type]             CS: 'IMAGE NUM 4'\n",
       "(0019, 1009) [CSA Image Header Version ??]       LO: '1.0'\n",
       "(0019, 100b) [SliceMeasurementDuration]          DS: '271932.5'\n",
       "(0019, 100f) [GradientMode]                      SH: 'Normal'\n",
       "(0019, 1011) [FlowCompensation]                  SH: 'No'\n",
       "(0019, 1012) [TablePositionOrigin]               SL: [0, 0, -1294]\n",
       "(0019, 1013) [ImaAbsTablePosition]               SL: [0, 0, -1294]\n",
       "(0019, 1014) [ImaRelTablePosition]               IS: [0, 0, 0]\n",
       "(0019, 1015) [SlicePosition_PCS]                 FD: [-87.45180555, -174.81262678, 140.63112565]\n",
       "(0019, 1017) [SliceResolution]                   DS: '1.0'\n",
       "(0019, 1018) [RealDwellTime]                     IS: '9800'\n",
       "(0020, 000d) Study Instance UID                  UI: 1.3.12.2.1107.5.2.32.35177.30000010111520253648400000010\n",
       "(0020, 000e) Series Instance UID                 UI: 1.3.12.2.1107.5.2.32.35177.3.2010111611450148344805488.0.0.0\n",
       "(0020, 0010) Study ID                            SH: '1'\n",
       "(0020, 0011) Series Number                       IS: '4'\n",
       "(0020, 0012) Acquisition Number                  IS: '1'\n",
       "(0020, 0013) Instance Number                     IS: '1'\n",
       "(0020, 0032) Image Position (Patient)            DS: [-87.451805546338, -174.81262677656, 140.63112564927]\n",
       "(0020, 0037) Image Orientation (Patient)         DS: [0.0532575707178, 0.99646343931428, 0.06499419413445, -0.0497353660302, 0.06765271089161, -0.996468516349]\n",
       "(0020, 0052) Frame of Reference UID              UI: 1.3.12.2.1107.5.2.32.35177.1.20101116114152218.0.0.0\n",
       "(0020, 1040) Position Reference Indicator        LO: ''\n",
       "(0020, 1041) Slice Location                      DS: '-85.983480442818'\n",
       "(0028, 0002) Samples per Pixel                   US: 1\n",
       "(0028, 0004) Photometric Interpretation          CS: 'MONOCHROME2'\n",
       "(0028, 0010) Rows                                US: 256\n",
       "(0028, 0011) Columns                             US: 256\n",
       "(0028, 0030) Pixel Spacing                       DS: [1, 1]\n",
       "(0028, 0100) Bits Allocated                      US: 16\n",
       "(0028, 0101) Bits Stored                         US: 12\n",
       "(0028, 0102) High Bit                            US: 11\n",
       "(0028, 0103) Pixel Representation                US: 0\n",
       "(0028, 0106) Smallest Image Pixel Value          US: 0\n",
       "(0028, 0107) Largest Image Pixel Value           US: 318\n",
       "(0028, 1050) Window Center                       DS: '48.0'\n",
       "(0028, 1051) Window Width                        DS: '138.0'\n",
       "(0028, 1055) Window Center & Width Explanation   LO: 'Algo1'\n",
       "(0029, 0010) Private Creator                     LO: 'SIEMENS CSA HEADER'\n",
       "(0029, 0011) Private Creator                     LO: 'SIEMENS MEDCOM HEADER2'\n",
       "(0029, 1008) [CSA Image Header Type]             CS: 'IMAGE NUM 4'\n",
       "(0029, 1009) [CSA Image Header Version]          LO: '20101116'\n",
       "(0029, 1010) [CSA Image Header Info]             OB: Array of 9212 elements\n",
       "(0029, 1018) [CSA Series Header Type]            CS: 'MR'\n",
       "(0029, 1019) [CSA Series Header Version]         LO: '20101116'\n",
       "(0029, 1020) [CSA Series Header Info]            OB: Array of 48528 elements\n",
       "(0029, 1160) [Series Workflow Status]            LO: 'com'\n",
       "(0032, 1060) Requested Procedure Description     LO: 'head CORBETTA'\n",
       "(0040, 0244) Performed Procedure Step Start Date DA: '20101116'\n",
       "(0040, 0245) Performed Procedure Step Start Time TM: '114152.125000'\n",
       "(0040, 0253) Performed Procedure Step ID         SH: 'MR20101116114152'\n",
       "(0040, 0254) Performed Procedure Step Descriptio LO: 'head^CORBETTA'\n",
       "(0051, 0010) Private Creator                     LO: 'SIEMENS MR HEADER'\n",
       "(0051, 1008) [CSA Image Header Type]             CS: 'IMAGE NUM 4'\n",
       "(0051, 1009) [CSA Image Header Version ??]       LO: '1.0'\n",
       "(0051, 100a) [Unknown]                           SH: 'TA 04:31'\n",
       "(0051, 100b) [AcquisitionMatrixText]             SH: '256*256s'\n",
       "(0051, 100c) [Unknown]                           SH: 'FoV 256*256'\n",
       "(0051, 100d) [Unknown]                           SH: 'SP R86.0'\n",
       "(0051, 100e) [Unknown]                           SH: 'Sag>Tra(3.1)>Cor(2.9)'\n",
       "(0051, 100f) [CoilString]                        LO: 't:HEA;HEP'\n",
       "(0051, 1011) [PATModeText]                       LO: 'p2'\n",
       "(0051, 1012) [Unknown]                           SH: 'TP 0'\n",
       "(0051, 1013) [PositivePCSDirections]             SH: '+LPH'\n",
       "(0051, 1016) [Unknown]                           LO: 'p2 M/ND/NORM'\n",
       "(0051, 1017) [Unknown]                           SH: 'SL 1.0'\n",
       "(0051, 1019) [Unknown]                           LO: 'A1/IR'\n",
       "(7fe0, 0010) Pixel Data                          OW: Array of 131072 elements"
      ]
     },
     "execution_count": 21,
     "metadata": {},
     "output_type": "execute_result"
    }
   ],
   "source": [
    "# Read a single DICOM image\n",
    "dicom_image = dicom.dcmread(slices[0])\n",
    "dicom_image"
   ]
  },
  {
   "cell_type": "markdown",
   "metadata": {
    "id": "6NUJju8F2yHr"
   },
   "source": [
    "This is a lot of information, which may or may not be useful depending on the experiment or on the type of paper your are trying to write. Given that ``` dicom_image ``` is a python object, we can access whatever fields we wish. Several acquisition parameters are usually reported in the studies and all of them can easily be accessed through this object. It is common to have the same scanning protocols for all the subjects in the dataset, but sometimes mistakes occur. With this type of software it should be easy to automatize searching schemes in order to stablish whether the protocol was changed during a study.\n",
    "\n"
   ]
  },
  {
   "cell_type": "code",
   "execution_count": 14,
   "metadata": {
    "colab": {
     "base_uri": "https://localhost:8080/"
    },
    "executionInfo": {
     "elapsed": 4,
     "status": "ok",
     "timestamp": 1695882579955,
     "user": {
      "displayName": "Joan Falcó Roget",
      "userId": "02492810960776302930"
     },
     "user_tz": -120
    },
    "id": "3ef_EubCcSps",
    "outputId": "57e847e6-006c-439e-831f-4726d5cce05c"
   },
   "outputs": [
    {
     "name": "stdout",
     "output_type": "stream",
     "text": [
      "Repetition Time = 1950 (s)\n",
      "Echo Time = 2.26 (s)\n",
      "Acquisition type: MPR_1mm_iso\n"
     ]
    }
   ],
   "source": [
    "# What was the Repetition Time of the protocol?\n",
    "TR = dicom_image.RepetitionTime\n",
    "print(f\"Repetition Time = {TR} (s)\")\n",
    "# What was the Echo Time of the protocol?\n",
    "ET = dicom_image.EchoTime\n",
    "print(f\"Echo Time = {ET} (s)\")\n",
    "# What was the Type of acquisition?\n",
    "ACQ_type = dicom_image.SeriesDescription\n",
    "print(f\"Acquisition type: {ACQ_type}\")"
   ]
  },
  {
   "cell_type": "markdown",
   "metadata": {
    "id": "vGsQde8IcS9S"
   },
   "source": [
    "However, can we acess the data? If so, what is the data exactly?"
   ]
  },
  {
   "cell_type": "code",
   "execution_count": 15,
   "metadata": {
    "colab": {
     "base_uri": "https://localhost:8080/"
    },
    "executionInfo": {
     "elapsed": 393,
     "status": "ok",
     "timestamp": 1695882583320,
     "user": {
      "displayName": "Joan Falcó Roget",
      "userId": "02492810960776302930"
     },
     "user_tz": -120
    },
    "id": "BcKLoyCO3c27",
    "outputId": "aa648320-e149-4987-a459-1095e1570f67"
   },
   "outputs": [
    {
     "name": "stdout",
     "output_type": "stream",
     "text": [
      "The shape of the data is: (256, 256)\n",
      "The type of variable is: <class 'numpy.ndarray'>\n",
      "[[ 0  0  0 ...  0  0  0]\n",
      " [ 0  2  2 ...  2  1  0]\n",
      " [ 0  1  1 ...  1  4  1]\n",
      " ...\n",
      " [ 0  0  5 ... 13 29 13]\n",
      " [ 0  5  6 ... 10  7 21]\n",
      " [ 0  7  4 ...  9 21  3]]\n"
     ]
    }
   ],
   "source": [
    "data = dicom_image.pixel_array\n",
    "print(f\"The shape of the data is: {data.shape}\")\n",
    "print(f\"The type of variable is: {type(data)}\")\n",
    "print(data)"
   ]
  },
  {
   "cell_type": "markdown",
   "metadata": {
    "id": "M9pnY91H3OZT"
   },
   "source": [
    "**Question:** What are the main differences between acquisition '16' and '4' of the subject with ID 'FCS-02AMC'?"
   ]
  },
  {
   "cell_type": "markdown",
   "metadata": {
    "id": "L3G2dpku3INK"
   },
   "source": [
    "It is clear that the DICOM format stores a lot of information including the data itself. Yet, what is the data? How can you see what you have stored? And how compact and easy to use is this format when it comes to numerical analyses of the scans? Let's"
   ]
  },
  {
   "cell_type": "code",
   "execution_count": 19,
   "metadata": {
    "colab": {
     "base_uri": "https://localhost:8080/",
     "height": 406
    },
    "executionInfo": {
     "elapsed": 1874,
     "status": "ok",
     "timestamp": 1695882591511,
     "user": {
      "displayName": "Joan Falcó Roget",
      "userId": "02492810960776302930"
     },
     "user_tz": -120
    },
    "id": "yX-92CK817DC",
    "outputId": "52d3d3a5-ce45-42ef-c8cd-182eb5c88f0e"
   },
   "outputs": [
    {
     "data": {
      "image/png": "[encoded data removed]",
      "text/plain": [
       "<Figure size 640x480 with 16 Axes>"
      ]
     },
     "metadata": {},
     "output_type": "display_data"
    }
   ],
   "source": [
    "num_to_plot = 4\n",
    "\n",
    "fig, axes = plt.subplots(num_to_plot, num_to_plot)\n",
    "if num_to_plot > 1:\n",
    "  axes = axes.flatten()\n",
    "  for i, ax in enumerate(axes):\n",
    "    ax.imshow(\n",
    "        dicom.dcmread(slices[i]).pixel_array, cmap='gray', vmin=0, vmax=255\n",
    "    )\n",
    "    ax.set_xticks([]), ax.set_yticks([])\n",
    "else:\n",
    "  axes.imshow(\n",
    "      dicom.dcmread(slices[2]).pixel_array, cmap='gray', vmin=0, vmax=255\n",
    "  )\n",
    "  axes.set_xticks([]), axes.set_yticks([])"
   ]
  },
  {
   "cell_type": "markdown",
   "metadata": {
    "id": "d1QroSPn7pva"
   },
   "source": [
    "Ares these images the same? Recall that the brain (or any other organ) is a 3D volume, and current MR scanners take 2D pictures hence they have to move along the head volume capturing *slices* of the subject. The DICOM format stores all these slices together with the corresponding information for each slice (e.g., Window Center). Each slice is stored separately in the acquisition folder (e.g., 16) with a very strange and almost undesciferable name. Furthermore, we can only visualize a single viewing plane that depends on the acquisition parameters. In the former example we could plot the sagital plane straight from the data. Can we do better? Yes!\n",
    "\n",
    "The *Neuroimaging Informatics Technology Initiative* (NIfTI) format is commonly used brain MR data and it allows to store all the desired information available in the DICOM directory into a single file. Importantly, there is a standard file-naming code that should be taken into consideration: **the FILE-NAME should not be left unattended!** For every subject, a whole DICOM session will be condensed into:\n",
    "\n",
    "*   a FILE-NAME.nii file containing the data\n",
    "*   a FILE-NAME.json file containing the aquisition parameters\n",
    "*   a FILE-NAME.bvec file containing gradient directions\n",
    "*   a FILE-NAME.bval file containing the gradient strengths\n",
    "\n",
    "Importantly, the two last files will only appear in the case of difussion MRI acquisitions. For now let's ignore their meaning since we will focus on them in the next laboratory session.\n",
    "\n",
    "To move from DICOM to NIFTI formats one could build a custom converter. The basics would require a stacking of all slices along a 3rd dimension ensuring that each slice is positioned correctly along the depth axis. A proper json file should also be manually written with the information extracted from the DICOM heather. Evenmore, in the case of diffusion data, the gradient strength and orientation would also need to be decoded from the DICOM heather. Yet, as you can probably imagine, there is a better and faster way to do all this. For now, let's convert the previous DICOM session to NIFTI and see what it looks like."
   ]
  },
  {
   "cell_type": "code",
   "execution_count": 21,
   "metadata": {
    "colab": {
     "base_uri": "https://localhost:8080/"
    },
    "executionInfo": {
     "elapsed": 8413,
     "status": "ok",
     "timestamp": 1695882414800,
     "user": {
      "displayName": "Joan Falcó Roget",
      "userId": "02492810960776302930"
     },
     "user_tz": -120
    },
    "id": "Uwuz9IlaE6o7",
    "outputId": "52cae875-e302-4d46-9d85-c465c0e12401"
   },
   "outputs": [
    {
     "name": "stdout",
     "output_type": "stream",
     "text": [
      "Collecting dicom2nifti\n",
      "  Downloading dicom2nifti-2.4.8-py3-none-any.whl (43 kB)\n",
      "\u001b[2K     \u001b[90m━━━━━━━━━━━━━━━━━━━━━━━━━━━━━━━━━━━━━━━━\u001b[0m \u001b[32m43.6/43.6 kB\u001b[0m \u001b[31m1.2 MB/s\u001b[0m eta \u001b[36m0:00:00\u001b[0m\n",
      "\u001b[?25hRequirement already satisfied: nibabel in /usr/local/lib/python3.10/dist-packages (from dicom2nifti) (4.0.2)\n",
      "Requirement already satisfied: numpy in /usr/local/lib/python3.10/dist-packages (from dicom2nifti) (1.23.5)\n",
      "Requirement already satisfied: scipy in /usr/local/lib/python3.10/dist-packages (from dicom2nifti) (1.11.2)\n",
      "Requirement already satisfied: pydicom>=2.2.0 in /usr/local/lib/python3.10/dist-packages (from dicom2nifti) (2.4.3)\n",
      "Collecting python-gdcm (from dicom2nifti)\n",
      "  Downloading python_gdcm-3.0.22-cp310-cp310-manylinux_2_17_x86_64.manylinux2014_x86_64.whl (13.0 MB)\n",
      "\u001b[2K     \u001b[90m━━━━━━━━━━━━━━━━━━━━━━━━━━━━━━━━━━━━━━━━\u001b[0m \u001b[32m13.0/13.0 MB\u001b[0m \u001b[31m41.7 MB/s\u001b[0m eta \u001b[36m0:00:00\u001b[0m\n",
      "\u001b[?25hRequirement already satisfied: packaging>=17.0 in /usr/local/lib/python3.10/dist-packages (from nibabel->dicom2nifti) (23.1)\n",
      "Requirement already satisfied: setuptools in /usr/local/lib/python3.10/dist-packages (from nibabel->dicom2nifti) (67.7.2)\n",
      "Installing collected packages: python-gdcm, dicom2nifti\n",
      "Successfully installed dicom2nifti-2.4.8 python-gdcm-3.0.22\n"
     ]
    }
   ],
   "source": [
    "!pip install dicom2nifti\n",
    "import dicom2nifti\n",
    "import os"
   ]
  },
  {
   "cell_type": "code",
   "execution_count": 28,
   "metadata": {
    "executionInfo": {
     "elapsed": 125452,
     "status": "ok",
     "timestamp": 1695882726725,
     "user": {
      "displayName": "Joan Falcó Roget",
      "userId": "02492810960776302930"
     },
     "user_tz": -120
    },
    "id": "J5uJlSFY9Bes"
   },
   "outputs": [],
   "source": [
    "T1_DICOM = f'./Lab-1_Intro2NeuroImagingData_Segmentation/DICOM-dir/{DICOM_subject}/4/'\n",
    "DTI_DICOM = f'./Lab-1_Intro2NeuroImagingData_Segmentation/DICOM-dir/{DICOM_subject}/16/'\n",
    "\n",
    "NIFTI_dir = f'./Lab-1_Intro2NeuroImagingData_Segmentation/subject_{DICOM_subject}_NIFTI_dir/pydicom/'\n",
    "if not os.path.exists(NIFTI_dir):\n",
    "  os.mkdir(NIFTI_dir)\n",
    "\n",
    "# Apply conversion\n",
    "dicom2nifti.convert_directory(T1_DICOM, NIFTI_dir, compression=True)\n",
    "dicom2nifti.convert_directory(DTI_DICOM, NIFTI_dir, compression=True)"
   ]
  },
  {
   "cell_type": "markdown",
   "metadata": {
    "id": "bSBeCjebf9fS"
   },
   "source": [
    "Where are the ```.json``` files? Have we lied to you before? No!\n",
    "\n",
    "***Exercise*** *Find a way to obtain the missing ```.json``` with the ```pydicom``` library. The documentation can be found [here](https://dicom2nifti.readthedocs.io/en/latest/).\n"
   ]
  },
  {
   "cell_type": "code",
   "execution_count": null,
   "metadata": {
    "id": "_PT80jBSfpUQ"
   },
   "outputs": [],
   "source": [
    "# TODO: Exercise"
   ]
  },
  {
   "cell_type": "markdown",
   "metadata": {
    "id": "_tHSaBZ2R2SI"
   },
   "source": [
    "Have you found a way to do so? If you did, please show it to us. If you didn't succeed do not worry too much because we don't know how to do it either.\n",
    "\n",
    "Besides, you may have noticed that the FILE-NAME is a strange combination of letters and numbers. In fact, if you try to convert other dicom series you will notice how the name is identical. While this indicates that the protocol for every subject was kept the same, it can be problematic when it comes to identifying subjects and working with the whole dataset.The proper way to do so is to work with LINUX/MACOS, Windows is not really an option: \n",
    "\n",
    "![windows](./windows_support.PNG)\n",
    "\n",
    "Once you have proper operating system you can proceed. Alternatively there are virtual machines or docker containers with most of the necessary neuroimaging software which might work properly on Windows: [Neurodesk](https://www.neurodesk.org/) for example. Anyhow, the best way to convert between formats is using [dmc2niix](https://manpages.ubuntu.com/manpages/jammy/en/man1/dcm2niix.1.html)."
   ]
  },
  {
   "cell_type": "code",
   "execution_count": 41,
   "metadata": {},
   "outputs": [
    {
     "name": "stdout",
     "output_type": "stream",
     "text": [
      "Collecting dcm2niix\n",
      "  Downloading dcm2niix-1.0.20220715.tar.gz (451 kB)\n",
      "\u001b[2K     \u001b[38;2;114;156;31m━━━━━━━━━━━━━━━━━━━━━━━━━━━━━━━━━━━━━━━\u001b[0m \u001b[32m451.4/451.4 kB\u001b[0m \u001b[31m4.6 MB/s\u001b[0m eta \u001b[36m0:00:00\u001b[0m MB/s\u001b[0m eta \u001b[36m0:00:01\u001b[0m\n",
      "\u001b[?25h  Installing build dependencies: started\n",
      "  Installing build dependencies: finished with status 'done'\n",
      "  Getting requirements to build wheel: started\n",
      "  Getting requirements to build wheel: finished with status 'done'\n",
      "  Preparing metadata (pyproject.toml): started\n",
      "  Preparing metadata (pyproject.toml): finished with status 'done'\n",
      "Collecting miutil[web] (from dcm2niix)\n",
      "  Obtaining dependency information for miutil[web] from https://files.pythonhosted.org/packages/8e/75/b4639b18b42d6c8b744b47c3f66c2efd029e7198beed88870c7cb9201f0a/miutil-0.12.0-py3-none-any.whl.metadata\n",
      "  Downloading miutil-0.12.0-py3-none-any.whl.metadata (4.7 kB)\n",
      "Collecting tqdm>=4.40.0 (from miutil[web]->dcm2niix)\n",
      "  Obtaining dependency information for tqdm>=4.40.0 from https://files.pythonhosted.org/packages/00/e5/f12a80907d0884e6dff9c16d0c0114d81b8cd07dc3ae54c5e962cc83037e/tqdm-4.66.1-py3-none-any.whl.metadata\n",
      "  Downloading tqdm-4.66.1-py3-none-any.whl.metadata (57 kB)\n",
      "\u001b[2K     \u001b[38;2;114;156;31m━━━━━━━━━━━━━━━━━━━━━━━━━━━━━━━━━━━━━━━━\u001b[0m \u001b[32m57.6/57.6 kB\u001b[0m \u001b[31m29.3 MB/s\u001b[0m eta \u001b[36m0:00:00\u001b[0m\n",
      "\u001b[?25hRequirement already satisfied: requests in /home/joanfr/miniconda3/envs/ML4Neuro/lib/python3.11/site-packages (from miutil[web]->dcm2niix) (2.31.0)\n",
      "Requirement already satisfied: charset-normalizer<4,>=2 in /home/joanfr/miniconda3/envs/ML4Neuro/lib/python3.11/site-packages (from requests->miutil[web]->dcm2niix) (3.2.0)\n",
      "Requirement already satisfied: idna<4,>=2.5 in /home/joanfr/miniconda3/envs/ML4Neuro/lib/python3.11/site-packages (from requests->miutil[web]->dcm2niix) (3.4)\n",
      "Requirement already satisfied: urllib3<3,>=1.21.1 in /home/joanfr/miniconda3/envs/ML4Neuro/lib/python3.11/site-packages (from requests->miutil[web]->dcm2niix) (2.0.5)\n",
      "Requirement already satisfied: certifi>=2017.4.17 in /home/joanfr/miniconda3/envs/ML4Neuro/lib/python3.11/site-packages (from requests->miutil[web]->dcm2niix) (2023.7.22)\n",
      "Downloading tqdm-4.66.1-py3-none-any.whl (78 kB)\n",
      "\u001b[2K   \u001b[38;2;114;156;31m━━━━━━━━━━━━━━━━━━━━━━━━━━━━━━━━━━━━━━━━\u001b[0m \u001b[32m78.3/78.3 kB\u001b[0m \u001b[31m25.2 MB/s\u001b[0m eta \u001b[36m0:00:00\u001b[0m\n",
      "\u001b[?25hDownloading miutil-0.12.0-py3-none-any.whl (18 kB)\n",
      "Building wheels for collected packages: dcm2niix\n",
      "  Building wheel for dcm2niix (pyproject.toml): started\n",
      "  Building wheel for dcm2niix (pyproject.toml): finished with status 'done'\n",
      "  Created wheel for dcm2niix: filename=dcm2niix-1.0.20220715-cp311-cp311-linux_x86_64.whl size=574721 sha256=bbf145224ab29be8febe846a46f46e3ea5f69e6b752292a5211abb6c54ffd1ba\n",
      "  Stored in directory: /home/joanfr/.cache/pip/wheels/64/cc/38/91fb92cfc430707d13d940bfb2322219d1e4bc7b1288c0ec16\n",
      "Successfully built dcm2niix\n",
      "Installing collected packages: tqdm, miutil, dcm2niix\n",
      "Successfully installed dcm2niix-1.0.20220715 miutil-0.12.0 tqdm-4.66.1\n"
     ]
    }
   ],
   "source": [
    "!pip install dcm2niix # This will install the software package but will only be available within the current conda environment\n",
    "# sudo apt install dcm2niix will install it system wide in Linux (requires sudo password)"
   ]
  },
  {
   "cell_type": "code",
   "execution_count": 49,
   "metadata": {},
   "outputs": [
    {
     "name": "stdout",
     "output_type": "stream",
     "text": [
      "Chris Rorden's dcm2niiX version v1.0.20220505  GCC12.2.0 x86-64 (64-bit Linux)\n",
      "Found 240 DICOM file(s)\n",
      "Convert 176 DICOM as ./subject_FCS-02AMC_NIFTI_dir/dcm2niix/FCS-02AMC_MPR_1mm_iso_20101116114152_4 (256x256x176x1)\n",
      "Convert 64 DICOM as ./subject_FCS-02AMC_NIFTI_dir/dcm2niix/FCS-02AMC_dti_63dir_2mm_iso_1of2_20101116114152_16 (128x128x64x64)\n",
      "Conversion required 0.283924 seconds (0.283729 for core code).\n"
     ]
    }
   ],
   "source": [
    "%%bash\n",
    "\n",
    "DICOM_dir=\"./DICOM-dir/FCS-02AMC/\"\n",
    "NIFTI_dir_dcm2niix=\"./subject_FCS-02AMC_NIFTI_dir/dcm2niix/\"\n",
    "mkdir $NIFTI_dir_dcm2niix\n",
    "\n",
    "dcm2niix -o $NIFTI_dir_dcm2niix $DICOM_dir"
   ]
  },
  {
   "cell_type": "markdown",
   "metadata": {},
   "source": [
    "As you can see the ```.json``` files are automatically generated and the conversion is much faster: we converted a whole subject in less than 0.5s. It is recommended to zip the .nii files using the ```-z``` flag. Furthermore, you have more control on the output name if you use the ```-f``` flag. You can customize your name in any way you prefer so that you can easily identify the files you converted."
   ]
  },
  {
   "cell_type": "code",
   "execution_count": 53,
   "metadata": {},
   "outputs": [
    {
     "name": "stdout",
     "output_type": "stream",
     "text": [
      "Chris Rorden's dcm2niiX version v1.0.20220505  GCC12.2.0 x86-64 (64-bit Linux)\n",
      "Found 240 DICOM file(s)\n",
      "Convert 176 DICOM as ./subject_FCS-02AMC_NIFTI_dir/dcm2niix-naming/FCS_002_AMC--MPR_1mm_iso--20101116114152 (256x256x176x1)\n",
      "Convert 64 DICOM as ./subject_FCS-02AMC_NIFTI_dir/dcm2niix-naming/FCS_002_AMC--dti_63dir_2mm_iso_1of2--20101116114152 (128x128x64x64)\n",
      "Conversion required 0.333199 seconds (0.332994 for core code).\n"
     ]
    }
   ],
   "source": [
    "%%bash\n",
    "\n",
    "DICOM_dir=\"./DICOM-dir/FCS-02AMC/\"\n",
    "NIFTI_dir_dcm2niix_naming=\"./subject_FCS-02AMC_NIFTI_dir/dcm2niix-naming/\"\n",
    "mkdir $NIFTI_dir_dcm2niix_naming\n",
    "\n",
    "dcm2niix -o $NIFTI_dir_dcm2niix_naming -f %n--%p--%t $DICOM_dir "
   ]
  },
  {
   "cell_type": "markdown",
   "metadata": {
    "id": "1IcVvGH--ltk"
   },
   "source": [
    "Don't worry you don't have to remember everything we say. Doing research involves a lot of google search queries, so one basically becomes very profficient and precise about the words used in the search bar. Here are a couple of useful links that might come in handy: [BIDS](https://bids.neuroimaging.io/) and [dcm2niix](https://manpages.ubuntu.com/manpages/jammy/en/man1/dcm2niix.1.html).\n",
    "\n",
    "***Exercise***: *As a small task, try to convert the whole DICOM directory to NIFTI files and reorganize them in a way that is BIDS compliant. You can reorganize them manually or automatically using regular expressions and the ```os``` library. To be sure the final dataset agrees with the minimum BIDS requirements you can use any of the two following options.* \n",
    "\n",
    "Be sure to include all the necessary information when converting your dicom files so that you can identify them properly. \n",
    "\n",
    "![bids](./BIDS.jpg)"
   ]
  },
  {
   "cell_type": "code",
   "execution_count": null,
   "metadata": {
    "id": "JqpSxGEsFt8k"
   },
   "outputs": [],
   "source": [
    "# TODO: Exercise"
   ]
  },
  {
   "cell_type": "code",
   "execution_count": null,
   "metadata": {
    "id": "YTr91Qh-9rkc"
   },
   "outputs": [],
   "source": [
    "# 1) the python package or the web-interface or,\n",
    "!pip install bids-validator\n",
    "from bids-validator import BIDSValidator\n",
    "BIDS_dir = 'paht-to-your-BIDS-directory'\n",
    "BIDSValidator().is_bids(BIDS_dir)"
   ]
  },
  {
   "cell_type": "code",
   "execution_count": null,
   "metadata": {
    "id": "1VdKP6IcANg9"
   },
   "outputs": [],
   "source": [
    "# 2) the web interface http://bids-standard.github.io/bids-validator/"
   ]
  },
  {
   "cell_type": "markdown",
   "metadata": {
    "id": "PzbgO6yl-Ve8"
   },
   "source": [
    "Sometimes, not all the data is available or useful to us. However, some files are required in order to have a more transparent and ready-to-use dataset. Remember, people are busy so you need to make things friendly for the user. Transparency and replicability are also encouraged even jeopardizing your own publication rates. For your own personal reasons or because the experiment demands it, you can also add a .bidsignore file pointing to files or directories that could be useful. The rationale is the same as the typical .gitignore file. For example, in lesion studies, it might be useful to have a directory with all the lesion masks even if its existence is not contemplated in the BIDS formatting.\n",
    "\n",
    "**Question:** What files are you missing? What information should these files have?\n",
    "\n",
    "***Optional exercise:*** *Add the necessary files (invent data if necessary) so that your directory complies with the validator's demands.*"
   ]
  },
  {
   "cell_type": "markdown",
   "metadata": {
    "id": "ebRJdjWtoox3"
   },
   "source": [
    "To understand the advantages that the NIFTI and BIDS formats offer it is enough to install and import a single python library. [NiBabel](https://nipy.org/nibabel/) The BIDS-dir folder has already some subjects with the correct organization. Feel free to take a look or use the one you created in the last step."
   ]
  },
  {
   "cell_type": "code",
   "execution_count": 56,
   "metadata": {
    "colab": {
     "base_uri": "https://localhost:8080/"
    },
    "executionInfo": {
     "elapsed": 6370,
     "status": "ok",
     "timestamp": 1695885362422,
     "user": {
      "displayName": "Joan Falcó Roget",
      "userId": "02492810960776302930"
     },
     "user_tz": -120
    },
    "id": "xWh-XYpdpLtB",
    "outputId": "5b85830e-943f-47a0-f0dd-e8e6592077e0"
   },
   "outputs": [
    {
     "name": "stdout",
     "output_type": "stream",
     "text": [
      "Collecting nibabel\n",
      "  Downloading nibabel-5.1.0-py3-none-any.whl (3.3 MB)\n",
      "\u001b[2K     \u001b[38;2;114;156;31m━━━━━━━━━━━━━━━━━━━━━━━━━━━━━━━━━━━━━━━━\u001b[0m \u001b[32m3.3/3.3 MB\u001b[0m \u001b[31m18.5 MB/s\u001b[0m eta \u001b[36m0:00:00\u001b[0mm eta \u001b[36m0:00:01\u001b[0m0:01\u001b[0m01\u001b[0m\n",
      "\u001b[?25hRequirement already satisfied: numpy>=1.19 in /home/joanfr/miniconda3/envs/ML4Neuro/lib/python3.11/site-packages (from nibabel) (1.26.0)\n",
      "Requirement already satisfied: packaging>=17 in /home/joanfr/miniconda3/envs/ML4Neuro/lib/python3.11/site-packages (from nibabel) (23.1)\n",
      "Installing collected packages: nibabel\n",
      "Successfully installed nibabel-5.1.0\n"
     ]
    }
   ],
   "source": [
    "!pip install nibabel\n",
    "import nibabel as nib"
   ]
  },
  {
   "cell_type": "code",
   "execution_count": 58,
   "metadata": {
    "id": "NO5552mpqGk4"
   },
   "outputs": [],
   "source": [
    "nifti = \"./BIDS-dir/sub-CON01/ses-control/anat/sub-CON01_ses-control_T1w.nii.gz\"\n",
    "img = nib.load(nifti)\n",
    "header, affine, data = img.header, img.affine, img.get_fdata()"
   ]
  },
  {
   "cell_type": "markdown",
   "metadata": {},
   "source": [
    "Nibabel loads all the information present in the NIFTI file onto a python object with three attributes:\n",
    "\n",
    "1. The **nifti header** contains all the information necessary to interpret the data. It can be used to quickly inspect the number of dimensions, the voxel size, the orientation of the image, ..."
   ]
  },
  {
   "cell_type": "code",
   "execution_count": 61,
   "metadata": {},
   "outputs": [
    {
     "name": "stdout",
     "output_type": "stream",
     "text": [
      "<class 'nibabel.nifti1.Nifti1Header'> object, endian='<'\n",
      "sizeof_hdr      : 348\n",
      "data_type       : b''\n",
      "db_name         : b''\n",
      "extents         : 0\n",
      "session_error   : 0\n",
      "regular         : b'r'\n",
      "dim_info        : 54\n",
      "dim             : [  3 176 256 256   1   1   1   1]\n",
      "intent_p1       : 0.0\n",
      "intent_p2       : 0.0\n",
      "intent_p3       : 0.0\n",
      "intent_code     : none\n",
      "datatype        : int16\n",
      "bitpix          : 16\n",
      "slice_start     : 0\n",
      "pixdim          : [1.   1.   1.   1.   1.95 0.   0.   0.  ]\n",
      "vox_offset      : 0.0\n",
      "scl_slope       : nan\n",
      "scl_inter       : nan\n",
      "slice_end       : 0\n",
      "slice_code      : unknown\n",
      "xyzt_units      : 10\n",
      "cal_max         : 0.0\n",
      "cal_min         : 0.0\n",
      "slice_duration  : 0.0\n",
      "toffset         : 0.0\n",
      "glmax           : 0\n",
      "glmin           : 0\n",
      "descrip         : b'TE=2.3;Time=111930.158;phase=1'\n",
      "aux_file        : b''\n",
      "qform_code      : scanner\n",
      "sform_code      : scanner\n",
      "quatern_b       : -0.12108318\n",
      "quatern_c       : 0.027722394\n",
      "quatern_d       : -0.04943511\n",
      "qoffset_x       : -107.91809\n",
      "qoffset_y       : -117.78743\n",
      "qoffset_z       : -58.31476\n",
      "srow_x          : [ 9.9357557e-01  9.1269225e-02  6.6918574e-02 -1.0791809e+02]\n",
      "srow_y          : [-1.0469611e-01  9.6579009e-01  2.3725149e-01 -1.1778743e+02]\n",
      "srow_z          : [-4.2975545e-02 -2.4273333e-01  9.6914065e-01 -5.8314758e+01]\n",
      "intent_name     : b''\n",
      "magic           : b'n+1'\n"
     ]
    }
   ],
   "source": [
    "print(header)"
   ]
  },
  {
   "cell_type": "markdown",
   "metadata": {},
   "source": [
    "2. The **nifti affine** is a 4x4 matrix that encodes the spatial interpretation of the data. Each voxel in the data represents the MR signal present in a given point in space $(x,y,z)$; thus, the affine is a transformation between voxel space and scanner space. Be sure to check [this](https://nipy.org/nibabel/coordinate_systems.html) very good documentation."
   ]
  },
  {
   "cell_type": "code",
   "execution_count": 62,
   "metadata": {},
   "outputs": [
    {
     "name": "stdout",
     "output_type": "stream",
     "text": [
      "[[ 9.93575573e-01  9.12692249e-02  6.69185743e-02 -1.07918091e+02]\n",
      " [-1.04696110e-01  9.65790093e-01  2.37251490e-01 -1.17787430e+02]\n",
      " [-4.29755449e-02 -2.42733330e-01  9.69140649e-01 -5.83147583e+01]\n",
      " [ 0.00000000e+00  0.00000000e+00  0.00000000e+00  1.00000000e+00]]\n"
     ]
    }
   ],
   "source": [
    "print(affine)"
   ]
  },
  {
   "cell_type": "markdown",
   "metadata": {},
   "source": [
    "3. The **data** is numpy array where each entry is the value of the reconstructed MR signal. This data however cannot be naively loaded and interpreted without any sort of spatial information."
   ]
  },
  {
   "cell_type": "code",
   "execution_count": 63,
   "metadata": {},
   "outputs": [
    {
     "name": "stdout",
     "output_type": "stream",
     "text": [
      "Type: <class 'numpy.ndarray'>\n",
      "Shape: (176, 256, 256)\n",
      "Data:\n",
      " [[[ 8.  4.  2. ...  1.  1.  0.]\n",
      "  [ 6.  4.  6. ...  4.  2.  0.]\n",
      "  [ 5.  8.  9. ...  0.  3.  0.]\n",
      "  ...\n",
      "  [ 6.  9.  1. ...  3.  2.  0.]\n",
      "  [ 3.  5.  9. ...  4.  2.  0.]\n",
      "  [ 0.  0.  0. ...  0.  0.  0.]]\n",
      "\n",
      " [[ 5.  3. 10. ...  3.  2.  0.]\n",
      "  [ 9.  1.  4. ...  0.  2.  0.]\n",
      "  [ 1.  6.  6. ...  3.  5.  0.]\n",
      "  ...\n",
      "  [ 7.  2.  0. ...  1.  1.  0.]\n",
      "  [ 5.  7.  4. ...  4.  0.  0.]\n",
      "  [ 0.  0.  0. ...  0.  0.  0.]]\n",
      "\n",
      " [[ 7.  7.  9. ...  2.  1.  0.]\n",
      "  [ 0.  1. 10. ...  2.  1.  0.]\n",
      "  [ 5.  4.  6. ...  3.  1.  0.]\n",
      "  ...\n",
      "  [14.  4. 14. ...  0.  3.  0.]\n",
      "  [ 7.  1.  5. ...  4.  3.  0.]\n",
      "  [ 0.  0.  0. ...  0.  0.  0.]]\n",
      "\n",
      " ...\n",
      "\n",
      " [[13. 16.  5. ...  4.  4.  0.]\n",
      "  [21. 12. 19. ...  2.  5.  0.]\n",
      "  [ 3.  4. 11. ...  3.  4.  0.]\n",
      "  ...\n",
      "  [ 7.  0. 10. ...  4.  3.  0.]\n",
      "  [14.  8. 11. ...  2.  2.  0.]\n",
      "  [ 0.  0.  0. ...  0.  0.  0.]]\n",
      "\n",
      " [[ 1.  3.  5. ...  8.  5.  0.]\n",
      "  [ 3. 10.  4. ... 10.  5.  0.]\n",
      "  [12.  9. 17. ...  6.  3.  0.]\n",
      "  ...\n",
      "  [ 1.  7. 11. ...  0.  2.  0.]\n",
      "  [ 6. 13.  5. ...  1.  1.  0.]\n",
      "  [ 0.  0.  0. ...  0.  0.  0.]]\n",
      "\n",
      " [[10.  6.  4. ...  2.  2.  0.]\n",
      "  [ 3.  6. 16. ...  2.  1.  0.]\n",
      "  [12.  0. 16. ...  4.  4.  0.]\n",
      "  ...\n",
      "  [16.  6. 13. ...  1.  6.  0.]\n",
      "  [21. 12.  7. ...  7.  3.  0.]\n",
      "  [ 0.  0.  0. ...  0.  0.  0.]]]\n"
     ]
    }
   ],
   "source": [
    "print(f\"Type: {type(data)}\")\n",
    "print(f\"Shape: {data.shape}\")\n",
    "print(f\"Data:\\n {data}\")"
   ]
  },
  {
   "cell_type": "markdown",
   "metadata": {},
   "source": [
    "Of course, if you overwrite any of these three attributes you can save a new file with the new data. You can do that by simply typing: ```nib.save(nib.Nifti1Header(new_data, new_affine, new_header), new_file_name)```. However, overwiting any of these things without clear knowledge of what you are doing (specially for the header and the affine) could have disastrous consequences. Therefore, it is good practice to use dedicated neuroimaging softwares for certain operations with the data."
   ]
  },
  {
   "cell_type": "markdown",
   "metadata": {
    "id": "TA5DlVWlfSnv"
   },
   "source": [
    "## 3. Data visualization: What do I have? How do I see what I have?"
   ]
  },
  {
   "cell_type": "markdown",
   "metadata": {
    "id": "jFk0NXd_oIKa"
   },
   "source": [
    "3D slicer in windows. FSLeyes or mrview in ubuntu/ios. Walk through/show from your laptop in the projector."
   ]
  },
  {
   "cell_type": "code",
   "execution_count": null,
   "metadata": {
    "colab": {
     "base_uri": "https://localhost:8080/"
    },
    "executionInfo": {
     "elapsed": 6735,
     "status": "ok",
     "timestamp": 1695723339878,
     "user": {
      "displayName": "Joan Falcó Roget",
      "userId": "02492810960776302930"
     },
     "user_tz": -120
    },
    "id": "abDv23fsfpYB",
    "outputId": "76032eb2-c086-46be-faa6-d6cfa1fe235e"
   },
   "outputs": [
    {
     "name": "stdout",
     "output_type": "stream",
     "text": [
      "Collecting nilearn\n",
      "  Downloading nilearn-0.10.1-py3-none-any.whl (10.3 MB)\n",
      "\u001b[2K     \u001b[90m━━━━━━━━━━━━━━━━━━━━━━━━━━━━━━━━━━━━━━━━\u001b[0m \u001b[32m10.3/10.3 MB\u001b[0m \u001b[31m63.4 MB/s\u001b[0m eta \u001b[36m0:00:00\u001b[0m\n",
      "\u001b[?25hRequirement already satisfied: joblib>=1.0.0 in /usr/local/lib/python3.10/dist-packages (from nilearn) (1.3.2)\n",
      "Requirement already satisfied: lxml in /usr/local/lib/python3.10/dist-packages (from nilearn) (4.9.3)\n",
      "Requirement already satisfied: nibabel>=3.2.0 in /usr/local/lib/python3.10/dist-packages (from nilearn) (4.0.2)\n",
      "Requirement already satisfied: numpy>=1.19.0 in /usr/local/lib/python3.10/dist-packages (from nilearn) (1.23.5)\n",
      "Requirement already satisfied: packaging in /usr/local/lib/python3.10/dist-packages (from nilearn) (23.1)\n",
      "Requirement already satisfied: pandas>=1.1.5 in /usr/local/lib/python3.10/dist-packages (from nilearn) (1.5.3)\n",
      "Requirement already satisfied: requests>=2.25.0 in /usr/local/lib/python3.10/dist-packages (from nilearn) (2.31.0)\n",
      "Requirement already satisfied: scikit-learn>=1.0.0 in /usr/local/lib/python3.10/dist-packages (from nilearn) (1.2.2)\n",
      "Requirement already satisfied: scipy>=1.6.0 in /usr/local/lib/python3.10/dist-packages (from nilearn) (1.11.2)\n",
      "Requirement already satisfied: setuptools in /usr/local/lib/python3.10/dist-packages (from nibabel>=3.2.0->nilearn) (67.7.2)\n",
      "Requirement already satisfied: python-dateutil>=2.8.1 in /usr/local/lib/python3.10/dist-packages (from pandas>=1.1.5->nilearn) (2.8.2)\n",
      "Requirement already satisfied: pytz>=2020.1 in /usr/local/lib/python3.10/dist-packages (from pandas>=1.1.5->nilearn) (2023.3.post1)\n",
      "Requirement already satisfied: charset-normalizer<4,>=2 in /usr/local/lib/python3.10/dist-packages (from requests>=2.25.0->nilearn) (3.2.0)\n",
      "Requirement already satisfied: idna<4,>=2.5 in /usr/local/lib/python3.10/dist-packages (from requests>=2.25.0->nilearn) (3.4)\n",
      "Requirement already satisfied: urllib3<3,>=1.21.1 in /usr/local/lib/python3.10/dist-packages (from requests>=2.25.0->nilearn) (2.0.4)\n",
      "Requirement already satisfied: certifi>=2017.4.17 in /usr/local/lib/python3.10/dist-packages (from requests>=2.25.0->nilearn) (2023.7.22)\n",
      "Requirement already satisfied: threadpoolctl>=2.0.0 in /usr/local/lib/python3.10/dist-packages (from scikit-learn>=1.0.0->nilearn) (3.2.0)\n",
      "Requirement already satisfied: six>=1.5 in /usr/local/lib/python3.10/dist-packages (from python-dateutil>=2.8.1->pandas>=1.1.5->nilearn) (1.16.0)\n",
      "Installing collected packages: nilearn\n",
      "Successfully installed nilearn-0.10.1\n"
     ]
    }
   ],
   "source": [
    "!pip install nilearn\n",
    "import nilearn\n",
    "import matplotlib.pylab as plt"
   ]
  },
  {
   "cell_type": "code",
   "execution_count": null,
   "metadata": {
    "id": "7dKjTLtZ_N2W"
   },
   "outputs": [],
   "source": [
    "# TODO: nilear and matplotlib plots of NIFTI images\n",
    "# Gudie them through FSLeyes, mrview and/or 3D slicer"
   ]
  },
  {
   "cell_type": "markdown",
   "metadata": {
    "id": "49tEB20WfS8v"
   },
   "source": [
    "## 4. Image registration and tissue segmentation: Unsupervised vs supervised methods"
   ]
  },
  {
   "cell_type": "markdown",
   "metadata": {
    "id": "5DgTA2QiO6ZL"
   },
   "source": [
    "FSL fast and flirt? ANTs? These are softwares that might be cumbersome to install for everybody, but nonetheless, they should be explained. And probably a tour guide through the most important FSL features will come in handy.\n",
    "\n",
    "Alternatively, one can try supervised methods which naturally fit into deep learning workflows, but are they advantageous?"
   ]
  },
  {
   "cell_type": "code",
   "execution_count": null,
   "metadata": {
    "id": "v-WF6xC8fqpW"
   },
   "outputs": [],
   "source": []
  },
  {
   "cell_type": "markdown",
   "metadata": {
    "id": "3TIFGzsjfSxv"
   },
   "source": [
    "## 5. Multimodal anatomical MRI acquisition: Lesion segmentation\n",
    "\n",
    "Anatomical tissue contrast imaging is an efficient and precise way of disinguishing the different types of matter that are present in the (human) brain. There are 4 main types of anatomical modalities:\n",
    "\n",
    "1. T1-weighted\n",
    "2. T1-weighted with a contrast agent\n",
    "3. T2-weighted\n",
    "4. Fluid Attenuated Imaging Recovery (FLAIR)\n",
    "\n",
    "![BRATS](./BRATS.jpg)\n",
    "\n",
    "ToDo: Some info about multimodal studies and their usefulness. Present the BRATS initiative (the flagship of multimodal deep learning)."
   ]
  },
  {
   "cell_type": "code",
   "execution_count": null,
   "metadata": {
    "id": "ui2MA4k6fqLx"
   },
   "outputs": [],
   "source": []
  },
  {
   "cell_type": "markdown",
   "metadata": {
    "id": "_94MF0pMfTJ2"
   },
   "source": [
    "## 6. Homework"
   ]
  },
  {
   "cell_type": "code",
   "execution_count": null,
   "metadata": {
    "id": "7hPCWyR970lv"
   },
   "outputs": [],
   "source": []
  }
 ],
 "metadata": {
  "colab": {
   "provenance": []
  },
  "kernelspec": {
   "display_name": "Python 3 (ipykernel)",
   "language": "python",
   "name": "python3"
  },
  "language_info": {
   "codemirror_mode": {
    "name": "ipython",
    "version": 3
   },
   "file_extension": ".py",
   "mimetype": "text/x-python",
   "name": "python",
   "nbconvert_exporter": "python",
   "pygments_lexer": "ipython3",
   "version": "3.11.5"
  }
 },
 "nbformat": 4,
 "nbformat_minor": 4
}
