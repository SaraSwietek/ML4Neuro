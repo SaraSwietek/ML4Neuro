{
 "cells": [
  {
   "cell_type": "markdown",
   "id": "ac61cec7-504d-4e6d-9da4-7c2ad02b4602",
   "metadata": {},
   "source": [
    "# Diffusion, tractography and structural connections in the human brain"
   ]
  },
  {
   "cell_type": "markdown",
   "id": "af46bf9f-dfeb-4b08-b0c8-546adc35ef0c",
   "metadata": {},
   "source": [
    "We start by first obtaining the bids directory with all the derivatives. For the present purpose we need to pay attention to the gray matter structures in the subcortex. "
   ]
  },
  {
   "cell_type": "code",
   "execution_count": 16,
   "id": "8efaaacf-40e8-4b9f-85a9-aef8ce44d7e6",
   "metadata": {},
   "outputs": [],
   "source": [
    "import os\n",
    "import glob\n",
    "import shutil"
   ]
  },
  {
   "cell_type": "code",
   "execution_count": 18,
   "id": "0a10f8fb-6dec-45a4-9175-dedb88a17640",
   "metadata": {},
   "outputs": [
    {
     "name": "stdout",
     "output_type": "stream",
     "text": [
      "Processing sub-CON01 in ses-control:\n",
      "---------------------------------------------\n",
      "Brain extracted succesfully\n",
      "Registered to MNI152 succesfully\n",
      "Segmented tissues succesfully\n",
      "Subcortical structures segmented succesfully\n",
      "+++++++++++++++++++++++++++++++++++++++++++++++\n",
      "+++++++++++++++++++++++++++++++++++++++++++++++\n",
      "Processing sub-CON02 in ses-control:\n",
      "---------------------------------------------\n",
      "Brain extracted succesfully\n",
      "Registered to MNI152 succesfully\n",
      "Segmented tissues succesfully\n",
      "Subcortical structures segmented succesfully\n",
      "+++++++++++++++++++++++++++++++++++++++++++++++\n",
      "+++++++++++++++++++++++++++++++++++++++++++++++\n",
      "Processing sub-CON06 in ses-control2:\n",
      "---------------------------------------------\n",
      "Brain extracted succesfully\n",
      "Registered to MNI152 succesfully\n",
      "Segmented tissues succesfully\n",
      "Subcortical structures segmented succesfully\n",
      "+++++++++++++++++++++++++++++++++++++++++++++++\n",
      "+++++++++++++++++++++++++++++++++++++++++++++++\n",
      "Processing sub-CON07 in ses-control:\n",
      "---------------------------------------------\n",
      "Brain extracted succesfully\n",
      "Registered to MNI152 succesfully\n",
      "Segmented tissues succesfully\n",
      "Subcortical structures segmented succesfully\n",
      "+++++++++++++++++++++++++++++++++++++++++++++++\n",
      "+++++++++++++++++++++++++++++++++++++++++++++++\n",
      "Processing sub-CON07 in ses-control2:\n",
      "---------------------------------------------\n",
      "Brain extracted succesfully\n",
      "Registered to MNI152 succesfully\n",
      "Segmented tissues succesfully\n",
      "Subcortical structures segmented succesfully\n",
      "+++++++++++++++++++++++++++++++++++++++++++++++\n",
      "+++++++++++++++++++++++++++++++++++++++++++++++\n"
     ]
    }
   ],
   "source": [
    "subjects = [\"01\", \"02\", \"06\" ,\"07\"]     # List of subjects in you dataset to process\n",
    "sessions = [                            # Sessions per subject\n",
    "    [\"\"],\n",
    "    [\"\"],\n",
    "    [\"2\"],\n",
    "    [\"\",\"2\"]\n",
    "]\n",
    "\n",
    "for s, sub in enumerate(subjects):\n",
    "    for ss, ses in enumerate(sessions[s]):\n",
    "        print(f\"Processing sub-CON{sub} in ses-control{ses}:\")\n",
    "        print(\"---------------------------------------------\")\n",
    "        \n",
    "        # Relevant directories per subject and session\n",
    "        bids_original = f\"./BIDS-dir/sub-CON{sub}/ses-control{ses}/anat/\"\n",
    "        bids_derivatives = f\"./BIDS-dir/derivatives/sub-CON{sub}/ses-control{ses}/anat/\"     \n",
    "        if not os.path.exists(bids_derivatives):\n",
    "            os.makedirs(bids_derivatives)\n",
    "        \n",
    "        # Original T1 file\n",
    "        file = os.path.join(bids_original, f\"sub-CON{sub}_ses-control{ses}_T1w.nii.gz\")\n",
    "        \n",
    "        # Brain Extraction Tool\n",
    "        masked_brain = os.path.join(bids_derivatives, f\"sub-CON{sub}_ses-control{ses}_T1w_brain.nii.gz\")\n",
    "        os.system(f\"bet {file} {masked_brain} -f .5 -g -.6\")\n",
    "        os.system(f\"bet {masked_brain} {masked_brain} -f .35 -m\")\n",
    "        print(\"Brain extracted succesfully\")\n",
    "\n",
    "        # Registration to template\n",
    "        reference = \"../Utils/MNI152_T1_1mm_brain.nii.gz\"\n",
    "        registered = os.path.join(bids_derivatives, f\"sub-CON{sub}_ses-control{ses}_T1w_brain_space-MNI152.nii.gz\")\n",
    "        transformation = os.path.join(bids_derivatives, f\"sub-CON{sub}_ses-control{ses}_T1w_brain_matrix2MNI152.txt\")\n",
    "        os.system(f\"flirt -in {masked_brain} -ref {reference} -omat {transformation}\")\n",
    "        os.system(f\"flirt -in {masked_brain} -ref {reference} -out {registered} -applyxfm -init {transformation}\")\n",
    "        print(\"Registered to MNI152 succesfully\")\n",
    "\n",
    "        # Tissue segmentation\n",
    "        os.system(f\"fast -n 4 -I 25 -W 25 -H .25 {registered}\")\n",
    "        print(\"Segmented tissues succesfully\")\n",
    "\n",
    "        # We apply an extra layer of segmentation for subcortical gray matter structures\n",
    "        # TODO: first fsl https://fsl.fmrib.ox.ac.uk/fsl/fslwiki/FIRST/UserGuide\n",
    "        subcorticalGM = os.path.join(bids_derivatives, f\"sub-CON{sub}_ses-control{ses}_T1w_brain_space-MNI152_subcortical.nii.gz\")\n",
    "        os.system(f\"run_first_all -i {registered} -o {subcorticalGM}\")\n",
    "        os.rename(\n",
    "            f\"{bids_derivatives}sub-CON{sub}_ses-control{ses}_T1w_brain_space-MNI152_subcortical_all_fast_firstseg.nii.gz\",\n",
    "            f\"{bids_derivatives}sub-CON{sub}_ses-control{ses}_T1w_brain_space-MNI152_subcortex-GM.nii.gz\"\n",
    "        )\n",
    "        # Let's clean the output files that we won't be needing for this\n",
    "        to_delete = glob.glob(f\"{bids_derivatives}*_subcortical*\")\n",
    "        for f in to_delete:\n",
    "            try:\n",
    "                os.remove(f)\n",
    "            except:\n",
    "                shutil.rmtree(f)\n",
    "        to_delete = glob.glob(f\"{bids_derivatives}*_to_std_sub*\")\n",
    "        for f in to_delete:\n",
    "            os.remove(f)\n",
    "        print(\"Subcortical structures segmented succesfully\")\n",
    "        print(\"+++++++++++++++++++++++++++++++++++++++++++++++\")\n",
    "        print(\"+++++++++++++++++++++++++++++++++++++++++++++++\")"
   ]
  },
  {
   "cell_type": "markdown",
   "id": "637994ae-268f-4bb1-846f-915df967343c",
   "metadata": {},
   "source": [
    "Now comes the question of whether the mask will alow the streamlines to start or not. Where do they stop?\n",
    "\n",
    "TODO: Think/read a proper way to seed and stop the fibers."
   ]
  }
 ],
 "metadata": {
  "kernelspec": {
   "display_name": "Python 3 (ipykernel)",
   "language": "python",
   "name": "python3"
  },
  "language_info": {
   "codemirror_mode": {
    "name": "ipython",
    "version": 3
   },
   "file_extension": ".py",
   "mimetype": "text/x-python",
   "name": "python",
   "nbconvert_exporter": "python",
   "pygments_lexer": "ipython3",
   "version": "3.11.5"
  }
 },
 "nbformat": 4,
 "nbformat_minor": 5
}
